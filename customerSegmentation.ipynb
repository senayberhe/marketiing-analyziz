{
  "nbformat": 4,
  "nbformat_minor": 0,
  "metadata": {
    "colab": {
      "name": "customerSegmentation.ipynb",
      "provenance": []
    },
    "kernelspec": {
      "name": "python3",
      "display_name": "Python 3"
    },
    "language_info": {
      "name": "python"
    }
  },
  "cells": [
    {
      "cell_type": "code",
      "metadata": {
        "id": "FDqnMPPx8Mkr"
      },
      "source": [
        "import matplotlib.pyplot as plt\n",
        "import pandas as pd\n",
        "import numpy as np\n",
        "\n",
        "\n",
        "%matplotlib inline "
      ],
      "execution_count": 1,
      "outputs": []
    },
    {
      "cell_type": "code",
      "metadata": {
        "id": "Lg2ItN5J9pwt"
      },
      "source": [
        "df = pd.read_excel('/content/Online Retail.xlsx', sheet_name='Online Retail')"
      ],
      "execution_count": 3,
      "outputs": []
    },
    {
      "cell_type": "code",
      "metadata": {
        "colab": {
          "base_uri": "https://localhost:8080/",
          "height": 514
        },
        "id": "6807ndtT-Drb",
        "outputId": "f89f3c8b-5d10-44be-efea-11bdfea0c7a7"
      },
      "source": [
        "df.head(15)"
      ],
      "execution_count": 4,
      "outputs": [
        {
          "output_type": "execute_result",
          "data": {
            "text/html": [
              "<div>\n",
              "<style scoped>\n",
              "    .dataframe tbody tr th:only-of-type {\n",
              "        vertical-align: middle;\n",
              "    }\n",
              "\n",
              "    .dataframe tbody tr th {\n",
              "        vertical-align: top;\n",
              "    }\n",
              "\n",
              "    .dataframe thead th {\n",
              "        text-align: right;\n",
              "    }\n",
              "</style>\n",
              "<table border=\"1\" class=\"dataframe\">\n",
              "  <thead>\n",
              "    <tr style=\"text-align: right;\">\n",
              "      <th></th>\n",
              "      <th>InvoiceNo</th>\n",
              "      <th>StockCode</th>\n",
              "      <th>Description</th>\n",
              "      <th>Quantity</th>\n",
              "      <th>InvoiceDate</th>\n",
              "      <th>UnitPrice</th>\n",
              "      <th>CustomerID</th>\n",
              "      <th>Country</th>\n",
              "    </tr>\n",
              "  </thead>\n",
              "  <tbody>\n",
              "    <tr>\n",
              "      <th>0</th>\n",
              "      <td>536365</td>\n",
              "      <td>85123A</td>\n",
              "      <td>WHITE HANGING HEART T-LIGHT HOLDER</td>\n",
              "      <td>6</td>\n",
              "      <td>2010-12-01 08:26:00</td>\n",
              "      <td>2.55</td>\n",
              "      <td>17850.0</td>\n",
              "      <td>United Kingdom</td>\n",
              "    </tr>\n",
              "    <tr>\n",
              "      <th>1</th>\n",
              "      <td>536365</td>\n",
              "      <td>71053</td>\n",
              "      <td>WHITE METAL LANTERN</td>\n",
              "      <td>6</td>\n",
              "      <td>2010-12-01 08:26:00</td>\n",
              "      <td>3.39</td>\n",
              "      <td>17850.0</td>\n",
              "      <td>United Kingdom</td>\n",
              "    </tr>\n",
              "    <tr>\n",
              "      <th>2</th>\n",
              "      <td>536365</td>\n",
              "      <td>84406B</td>\n",
              "      <td>CREAM CUPID HEARTS COAT HANGER</td>\n",
              "      <td>8</td>\n",
              "      <td>2010-12-01 08:26:00</td>\n",
              "      <td>2.75</td>\n",
              "      <td>17850.0</td>\n",
              "      <td>United Kingdom</td>\n",
              "    </tr>\n",
              "    <tr>\n",
              "      <th>3</th>\n",
              "      <td>536365</td>\n",
              "      <td>84029G</td>\n",
              "      <td>KNITTED UNION FLAG HOT WATER BOTTLE</td>\n",
              "      <td>6</td>\n",
              "      <td>2010-12-01 08:26:00</td>\n",
              "      <td>3.39</td>\n",
              "      <td>17850.0</td>\n",
              "      <td>United Kingdom</td>\n",
              "    </tr>\n",
              "    <tr>\n",
              "      <th>4</th>\n",
              "      <td>536365</td>\n",
              "      <td>84029E</td>\n",
              "      <td>RED WOOLLY HOTTIE WHITE HEART.</td>\n",
              "      <td>6</td>\n",
              "      <td>2010-12-01 08:26:00</td>\n",
              "      <td>3.39</td>\n",
              "      <td>17850.0</td>\n",
              "      <td>United Kingdom</td>\n",
              "    </tr>\n",
              "    <tr>\n",
              "      <th>5</th>\n",
              "      <td>536365</td>\n",
              "      <td>22752</td>\n",
              "      <td>SET 7 BABUSHKA NESTING BOXES</td>\n",
              "      <td>2</td>\n",
              "      <td>2010-12-01 08:26:00</td>\n",
              "      <td>7.65</td>\n",
              "      <td>17850.0</td>\n",
              "      <td>United Kingdom</td>\n",
              "    </tr>\n",
              "    <tr>\n",
              "      <th>6</th>\n",
              "      <td>536365</td>\n",
              "      <td>21730</td>\n",
              "      <td>GLASS STAR FROSTED T-LIGHT HOLDER</td>\n",
              "      <td>6</td>\n",
              "      <td>2010-12-01 08:26:00</td>\n",
              "      <td>4.25</td>\n",
              "      <td>17850.0</td>\n",
              "      <td>United Kingdom</td>\n",
              "    </tr>\n",
              "    <tr>\n",
              "      <th>7</th>\n",
              "      <td>536366</td>\n",
              "      <td>22633</td>\n",
              "      <td>HAND WARMER UNION JACK</td>\n",
              "      <td>6</td>\n",
              "      <td>2010-12-01 08:28:00</td>\n",
              "      <td>1.85</td>\n",
              "      <td>17850.0</td>\n",
              "      <td>United Kingdom</td>\n",
              "    </tr>\n",
              "    <tr>\n",
              "      <th>8</th>\n",
              "      <td>536366</td>\n",
              "      <td>22632</td>\n",
              "      <td>HAND WARMER RED POLKA DOT</td>\n",
              "      <td>6</td>\n",
              "      <td>2010-12-01 08:28:00</td>\n",
              "      <td>1.85</td>\n",
              "      <td>17850.0</td>\n",
              "      <td>United Kingdom</td>\n",
              "    </tr>\n",
              "    <tr>\n",
              "      <th>9</th>\n",
              "      <td>536367</td>\n",
              "      <td>84879</td>\n",
              "      <td>ASSORTED COLOUR BIRD ORNAMENT</td>\n",
              "      <td>32</td>\n",
              "      <td>2010-12-01 08:34:00</td>\n",
              "      <td>1.69</td>\n",
              "      <td>13047.0</td>\n",
              "      <td>United Kingdom</td>\n",
              "    </tr>\n",
              "    <tr>\n",
              "      <th>10</th>\n",
              "      <td>536367</td>\n",
              "      <td>22745</td>\n",
              "      <td>POPPY'S PLAYHOUSE BEDROOM</td>\n",
              "      <td>6</td>\n",
              "      <td>2010-12-01 08:34:00</td>\n",
              "      <td>2.10</td>\n",
              "      <td>13047.0</td>\n",
              "      <td>United Kingdom</td>\n",
              "    </tr>\n",
              "    <tr>\n",
              "      <th>11</th>\n",
              "      <td>536367</td>\n",
              "      <td>22748</td>\n",
              "      <td>POPPY'S PLAYHOUSE KITCHEN</td>\n",
              "      <td>6</td>\n",
              "      <td>2010-12-01 08:34:00</td>\n",
              "      <td>2.10</td>\n",
              "      <td>13047.0</td>\n",
              "      <td>United Kingdom</td>\n",
              "    </tr>\n",
              "    <tr>\n",
              "      <th>12</th>\n",
              "      <td>536367</td>\n",
              "      <td>22749</td>\n",
              "      <td>FELTCRAFT PRINCESS CHARLOTTE DOLL</td>\n",
              "      <td>8</td>\n",
              "      <td>2010-12-01 08:34:00</td>\n",
              "      <td>3.75</td>\n",
              "      <td>13047.0</td>\n",
              "      <td>United Kingdom</td>\n",
              "    </tr>\n",
              "    <tr>\n",
              "      <th>13</th>\n",
              "      <td>536367</td>\n",
              "      <td>22310</td>\n",
              "      <td>IVORY KNITTED MUG COSY</td>\n",
              "      <td>6</td>\n",
              "      <td>2010-12-01 08:34:00</td>\n",
              "      <td>1.65</td>\n",
              "      <td>13047.0</td>\n",
              "      <td>United Kingdom</td>\n",
              "    </tr>\n",
              "    <tr>\n",
              "      <th>14</th>\n",
              "      <td>536367</td>\n",
              "      <td>84969</td>\n",
              "      <td>BOX OF 6 ASSORTED COLOUR TEASPOONS</td>\n",
              "      <td>6</td>\n",
              "      <td>2010-12-01 08:34:00</td>\n",
              "      <td>4.25</td>\n",
              "      <td>13047.0</td>\n",
              "      <td>United Kingdom</td>\n",
              "    </tr>\n",
              "  </tbody>\n",
              "</table>\n",
              "</div>"
            ],
            "text/plain": [
              "   InvoiceNo StockCode  ... CustomerID         Country\n",
              "0     536365    85123A  ...    17850.0  United Kingdom\n",
              "1     536365     71053  ...    17850.0  United Kingdom\n",
              "2     536365    84406B  ...    17850.0  United Kingdom\n",
              "3     536365    84029G  ...    17850.0  United Kingdom\n",
              "4     536365    84029E  ...    17850.0  United Kingdom\n",
              "5     536365     22752  ...    17850.0  United Kingdom\n",
              "6     536365     21730  ...    17850.0  United Kingdom\n",
              "7     536366     22633  ...    17850.0  United Kingdom\n",
              "8     536366     22632  ...    17850.0  United Kingdom\n",
              "9     536367     84879  ...    13047.0  United Kingdom\n",
              "10    536367     22745  ...    13047.0  United Kingdom\n",
              "11    536367     22748  ...    13047.0  United Kingdom\n",
              "12    536367     22749  ...    13047.0  United Kingdom\n",
              "13    536367     22310  ...    13047.0  United Kingdom\n",
              "14    536367     84969  ...    13047.0  United Kingdom\n",
              "\n",
              "[15 rows x 8 columns]"
            ]
          },
          "metadata": {},
          "execution_count": 4
        }
      ]
    },
    {
      "cell_type": "code",
      "metadata": {
        "colab": {
          "base_uri": "https://localhost:8080/"
        },
        "id": "HTUsrS82-T4N",
        "outputId": "a9397771-56e5-42a9-f192-93c2c335957c"
      },
      "source": [
        "df.shape"
      ],
      "execution_count": 5,
      "outputs": [
        {
          "output_type": "execute_result",
          "data": {
            "text/plain": [
              "(541909, 8)"
            ]
          },
          "metadata": {},
          "execution_count": 5
        }
      ]
    },
    {
      "cell_type": "code",
      "metadata": {
        "colab": {
          "base_uri": "https://localhost:8080/"
        },
        "id": "6-ao18GR-Uy0",
        "outputId": "1b0ce280-552f-4dc1-8575-09f7a408d190"
      },
      "source": [
        "df.loc[df['Quantity'] <= 0].shape"
      ],
      "execution_count": 6,
      "outputs": [
        {
          "output_type": "execute_result",
          "data": {
            "text/plain": [
              "(10624, 8)"
            ]
          },
          "metadata": {},
          "execution_count": 6
        }
      ]
    },
    {
      "cell_type": "code",
      "metadata": {
        "colab": {
          "base_uri": "https://localhost:8080/"
        },
        "id": "lobiPHjz-YLE",
        "outputId": "8c5e0bda-9d4e-408a-b4eb-4ca017e3f0fc"
      },
      "source": [
        "df.shape"
      ],
      "execution_count": 7,
      "outputs": [
        {
          "output_type": "execute_result",
          "data": {
            "text/plain": [
              "(541909, 8)"
            ]
          },
          "metadata": {},
          "execution_count": 7
        }
      ]
    },
    {
      "cell_type": "code",
      "metadata": {
        "id": "s7lgEyKE-aTU"
      },
      "source": [
        "df = df.loc[df['Quantity'] > 0]"
      ],
      "execution_count": 8,
      "outputs": []
    },
    {
      "cell_type": "code",
      "metadata": {
        "colab": {
          "base_uri": "https://localhost:8080/"
        },
        "id": "xnnw_P6a-aqU",
        "outputId": "a5917461-f595-4b2b-f811-1a7d8d099355"
      },
      "source": [
        "pd.isnull(df['CustomerID']).sum()"
      ],
      "execution_count": 9,
      "outputs": [
        {
          "output_type": "execute_result",
          "data": {
            "text/plain": [
              "133361"
            ]
          },
          "metadata": {},
          "execution_count": 9
        }
      ]
    },
    {
      "cell_type": "code",
      "metadata": {
        "id": "xBzRq_Yb-c7k"
      },
      "source": [
        "df = df[pd.notnull(df['CustomerID'])]"
      ],
      "execution_count": 10,
      "outputs": []
    },
    {
      "cell_type": "code",
      "metadata": {
        "colab": {
          "base_uri": "https://localhost:8080/"
        },
        "id": "SM_Q1gLr-fZ7",
        "outputId": "217323ca-7ab1-419a-d89a-f5cda6dc82c7"
      },
      "source": [
        "df.shape"
      ],
      "execution_count": 11,
      "outputs": [
        {
          "output_type": "execute_result",
          "data": {
            "text/plain": [
              "(397924, 8)"
            ]
          },
          "metadata": {},
          "execution_count": 11
        }
      ]
    },
    {
      "cell_type": "code",
      "metadata": {
        "colab": {
          "base_uri": "https://localhost:8080/",
          "height": 204
        },
        "id": "OqHeLWdr-ihT",
        "outputId": "3cf9da88-c8e2-4185-b6e1-e78fa6491ae6"
      },
      "source": [
        "df.head()"
      ],
      "execution_count": 12,
      "outputs": [
        {
          "output_type": "execute_result",
          "data": {
            "text/html": [
              "<div>\n",
              "<style scoped>\n",
              "    .dataframe tbody tr th:only-of-type {\n",
              "        vertical-align: middle;\n",
              "    }\n",
              "\n",
              "    .dataframe tbody tr th {\n",
              "        vertical-align: top;\n",
              "    }\n",
              "\n",
              "    .dataframe thead th {\n",
              "        text-align: right;\n",
              "    }\n",
              "</style>\n",
              "<table border=\"1\" class=\"dataframe\">\n",
              "  <thead>\n",
              "    <tr style=\"text-align: right;\">\n",
              "      <th></th>\n",
              "      <th>InvoiceNo</th>\n",
              "      <th>StockCode</th>\n",
              "      <th>Description</th>\n",
              "      <th>Quantity</th>\n",
              "      <th>InvoiceDate</th>\n",
              "      <th>UnitPrice</th>\n",
              "      <th>CustomerID</th>\n",
              "      <th>Country</th>\n",
              "    </tr>\n",
              "  </thead>\n",
              "  <tbody>\n",
              "    <tr>\n",
              "      <th>0</th>\n",
              "      <td>536365</td>\n",
              "      <td>85123A</td>\n",
              "      <td>WHITE HANGING HEART T-LIGHT HOLDER</td>\n",
              "      <td>6</td>\n",
              "      <td>2010-12-01 08:26:00</td>\n",
              "      <td>2.55</td>\n",
              "      <td>17850.0</td>\n",
              "      <td>United Kingdom</td>\n",
              "    </tr>\n",
              "    <tr>\n",
              "      <th>1</th>\n",
              "      <td>536365</td>\n",
              "      <td>71053</td>\n",
              "      <td>WHITE METAL LANTERN</td>\n",
              "      <td>6</td>\n",
              "      <td>2010-12-01 08:26:00</td>\n",
              "      <td>3.39</td>\n",
              "      <td>17850.0</td>\n",
              "      <td>United Kingdom</td>\n",
              "    </tr>\n",
              "    <tr>\n",
              "      <th>2</th>\n",
              "      <td>536365</td>\n",
              "      <td>84406B</td>\n",
              "      <td>CREAM CUPID HEARTS COAT HANGER</td>\n",
              "      <td>8</td>\n",
              "      <td>2010-12-01 08:26:00</td>\n",
              "      <td>2.75</td>\n",
              "      <td>17850.0</td>\n",
              "      <td>United Kingdom</td>\n",
              "    </tr>\n",
              "    <tr>\n",
              "      <th>3</th>\n",
              "      <td>536365</td>\n",
              "      <td>84029G</td>\n",
              "      <td>KNITTED UNION FLAG HOT WATER BOTTLE</td>\n",
              "      <td>6</td>\n",
              "      <td>2010-12-01 08:26:00</td>\n",
              "      <td>3.39</td>\n",
              "      <td>17850.0</td>\n",
              "      <td>United Kingdom</td>\n",
              "    </tr>\n",
              "    <tr>\n",
              "      <th>4</th>\n",
              "      <td>536365</td>\n",
              "      <td>84029E</td>\n",
              "      <td>RED WOOLLY HOTTIE WHITE HEART.</td>\n",
              "      <td>6</td>\n",
              "      <td>2010-12-01 08:26:00</td>\n",
              "      <td>3.39</td>\n",
              "      <td>17850.0</td>\n",
              "      <td>United Kingdom</td>\n",
              "    </tr>\n",
              "  </tbody>\n",
              "</table>\n",
              "</div>"
            ],
            "text/plain": [
              "  InvoiceNo StockCode  ... CustomerID         Country\n",
              "0    536365    85123A  ...    17850.0  United Kingdom\n",
              "1    536365     71053  ...    17850.0  United Kingdom\n",
              "2    536365    84406B  ...    17850.0  United Kingdom\n",
              "3    536365    84029G  ...    17850.0  United Kingdom\n",
              "4    536365    84029E  ...    17850.0  United Kingdom\n",
              "\n",
              "[5 rows x 8 columns]"
            ]
          },
          "metadata": {},
          "execution_count": 12
        }
      ]
    },
    {
      "cell_type": "code",
      "metadata": {
        "colab": {
          "base_uri": "https://localhost:8080/"
        },
        "id": "9wqhgt4a-i4r",
        "outputId": "4b3f21c8-0f22-460d-cb1d-821dc2d717cd"
      },
      "source": [
        "print('Date Range: %s ~ %s' % (df['InvoiceDate'].min(), df['InvoiceDate'].max()))"
      ],
      "execution_count": 13,
      "outputs": [
        {
          "output_type": "stream",
          "name": "stdout",
          "text": [
            "Date Range: 2010-12-01 08:26:00 ~ 2011-12-09 12:50:00\n"
          ]
        }
      ]
    },
    {
      "cell_type": "code",
      "metadata": {
        "colab": {
          "base_uri": "https://localhost:8080/"
        },
        "id": "o0p3mIjq-nT0",
        "outputId": "e0b88ddd-2539-4feb-8889-468c5c678ee3"
      },
      "source": [
        "df.loc[df['InvoiceDate'] >= '2011-12-01'].shape"
      ],
      "execution_count": 14,
      "outputs": [
        {
          "output_type": "execute_result",
          "data": {
            "text/plain": [
              "(17304, 8)"
            ]
          },
          "metadata": {},
          "execution_count": 14
        }
      ]
    },
    {
      "cell_type": "code",
      "metadata": {
        "id": "iNxZShgR-pQy"
      },
      "source": [
        "df = df.loc[df['InvoiceDate'] < '2011-12-01']"
      ],
      "execution_count": 15,
      "outputs": []
    },
    {
      "cell_type": "code",
      "metadata": {
        "colab": {
          "base_uri": "https://localhost:8080/"
        },
        "id": "z2If6E2T-r9a",
        "outputId": "bfa2034d-0b07-40cd-9255-39714ff3068c"
      },
      "source": [
        "df.shape"
      ],
      "execution_count": 16,
      "outputs": [
        {
          "output_type": "execute_result",
          "data": {
            "text/plain": [
              "(380620, 8)"
            ]
          },
          "metadata": {},
          "execution_count": 16
        }
      ]
    },
    {
      "cell_type": "code",
      "metadata": {
        "id": "bZuECFBP-uJR"
      },
      "source": [
        "df['Sales'] = df['Quantity'] * df['UnitPrice']"
      ],
      "execution_count": 17,
      "outputs": []
    },
    {
      "cell_type": "code",
      "metadata": {
        "colab": {
          "base_uri": "https://localhost:8080/",
          "height": 289
        },
        "id": "qckVTqNC-uqh",
        "outputId": "43b4a0ef-24fe-4183-a010-1d2ced6a1ab7"
      },
      "source": [
        "df.head()"
      ],
      "execution_count": 18,
      "outputs": [
        {
          "output_type": "execute_result",
          "data": {
            "text/html": [
              "<div>\n",
              "<style scoped>\n",
              "    .dataframe tbody tr th:only-of-type {\n",
              "        vertical-align: middle;\n",
              "    }\n",
              "\n",
              "    .dataframe tbody tr th {\n",
              "        vertical-align: top;\n",
              "    }\n",
              "\n",
              "    .dataframe thead th {\n",
              "        text-align: right;\n",
              "    }\n",
              "</style>\n",
              "<table border=\"1\" class=\"dataframe\">\n",
              "  <thead>\n",
              "    <tr style=\"text-align: right;\">\n",
              "      <th></th>\n",
              "      <th>InvoiceNo</th>\n",
              "      <th>StockCode</th>\n",
              "      <th>Description</th>\n",
              "      <th>Quantity</th>\n",
              "      <th>InvoiceDate</th>\n",
              "      <th>UnitPrice</th>\n",
              "      <th>CustomerID</th>\n",
              "      <th>Country</th>\n",
              "      <th>Sales</th>\n",
              "    </tr>\n",
              "  </thead>\n",
              "  <tbody>\n",
              "    <tr>\n",
              "      <th>0</th>\n",
              "      <td>536365</td>\n",
              "      <td>85123A</td>\n",
              "      <td>WHITE HANGING HEART T-LIGHT HOLDER</td>\n",
              "      <td>6</td>\n",
              "      <td>2010-12-01 08:26:00</td>\n",
              "      <td>2.55</td>\n",
              "      <td>17850.0</td>\n",
              "      <td>United Kingdom</td>\n",
              "      <td>15.30</td>\n",
              "    </tr>\n",
              "    <tr>\n",
              "      <th>1</th>\n",
              "      <td>536365</td>\n",
              "      <td>71053</td>\n",
              "      <td>WHITE METAL LANTERN</td>\n",
              "      <td>6</td>\n",
              "      <td>2010-12-01 08:26:00</td>\n",
              "      <td>3.39</td>\n",
              "      <td>17850.0</td>\n",
              "      <td>United Kingdom</td>\n",
              "      <td>20.34</td>\n",
              "    </tr>\n",
              "    <tr>\n",
              "      <th>2</th>\n",
              "      <td>536365</td>\n",
              "      <td>84406B</td>\n",
              "      <td>CREAM CUPID HEARTS COAT HANGER</td>\n",
              "      <td>8</td>\n",
              "      <td>2010-12-01 08:26:00</td>\n",
              "      <td>2.75</td>\n",
              "      <td>17850.0</td>\n",
              "      <td>United Kingdom</td>\n",
              "      <td>22.00</td>\n",
              "    </tr>\n",
              "    <tr>\n",
              "      <th>3</th>\n",
              "      <td>536365</td>\n",
              "      <td>84029G</td>\n",
              "      <td>KNITTED UNION FLAG HOT WATER BOTTLE</td>\n",
              "      <td>6</td>\n",
              "      <td>2010-12-01 08:26:00</td>\n",
              "      <td>3.39</td>\n",
              "      <td>17850.0</td>\n",
              "      <td>United Kingdom</td>\n",
              "      <td>20.34</td>\n",
              "    </tr>\n",
              "    <tr>\n",
              "      <th>4</th>\n",
              "      <td>536365</td>\n",
              "      <td>84029E</td>\n",
              "      <td>RED WOOLLY HOTTIE WHITE HEART.</td>\n",
              "      <td>6</td>\n",
              "      <td>2010-12-01 08:26:00</td>\n",
              "      <td>3.39</td>\n",
              "      <td>17850.0</td>\n",
              "      <td>United Kingdom</td>\n",
              "      <td>20.34</td>\n",
              "    </tr>\n",
              "  </tbody>\n",
              "</table>\n",
              "</div>"
            ],
            "text/plain": [
              "  InvoiceNo StockCode  ...         Country  Sales\n",
              "0    536365    85123A  ...  United Kingdom  15.30\n",
              "1    536365     71053  ...  United Kingdom  20.34\n",
              "2    536365    84406B  ...  United Kingdom  22.00\n",
              "3    536365    84029G  ...  United Kingdom  20.34\n",
              "4    536365    84029E  ...  United Kingdom  20.34\n",
              "\n",
              "[5 rows x 9 columns]"
            ]
          },
          "metadata": {},
          "execution_count": 18
        }
      ]
    },
    {
      "cell_type": "code",
      "metadata": {
        "id": "JbPmsOuX-xmp"
      },
      "source": [
        "customer_df = df.groupby('CustomerID').agg({\n",
        "    'Sales': sum,\n",
        "    'InvoiceNo': lambda x: x.nunique()\n",
        "})\n",
        "\n",
        "customer_df.columns = ['TotalSales', 'OrderCount']\n",
        "customer_df['AvgOrderValue'] = customer_df['TotalSales']/customer_df['OrderCount']"
      ],
      "execution_count": 19,
      "outputs": []
    },
    {
      "cell_type": "code",
      "metadata": {
        "colab": {
          "base_uri": "https://localhost:8080/",
          "height": 545
        },
        "id": "4vcoEBjC-0LJ",
        "outputId": "abc01f10-1718-4279-fcb8-62a04441c473"
      },
      "source": [
        "customer_df.head(15)"
      ],
      "execution_count": 20,
      "outputs": [
        {
          "output_type": "execute_result",
          "data": {
            "text/html": [
              "<div>\n",
              "<style scoped>\n",
              "    .dataframe tbody tr th:only-of-type {\n",
              "        vertical-align: middle;\n",
              "    }\n",
              "\n",
              "    .dataframe tbody tr th {\n",
              "        vertical-align: top;\n",
              "    }\n",
              "\n",
              "    .dataframe thead th {\n",
              "        text-align: right;\n",
              "    }\n",
              "</style>\n",
              "<table border=\"1\" class=\"dataframe\">\n",
              "  <thead>\n",
              "    <tr style=\"text-align: right;\">\n",
              "      <th></th>\n",
              "      <th>TotalSales</th>\n",
              "      <th>OrderCount</th>\n",
              "      <th>AvgOrderValue</th>\n",
              "    </tr>\n",
              "    <tr>\n",
              "      <th>CustomerID</th>\n",
              "      <th></th>\n",
              "      <th></th>\n",
              "      <th></th>\n",
              "    </tr>\n",
              "  </thead>\n",
              "  <tbody>\n",
              "    <tr>\n",
              "      <th>12346.0</th>\n",
              "      <td>77183.60</td>\n",
              "      <td>1</td>\n",
              "      <td>77183.600000</td>\n",
              "    </tr>\n",
              "    <tr>\n",
              "      <th>12347.0</th>\n",
              "      <td>4085.18</td>\n",
              "      <td>6</td>\n",
              "      <td>680.863333</td>\n",
              "    </tr>\n",
              "    <tr>\n",
              "      <th>12348.0</th>\n",
              "      <td>1797.24</td>\n",
              "      <td>4</td>\n",
              "      <td>449.310000</td>\n",
              "    </tr>\n",
              "    <tr>\n",
              "      <th>12349.0</th>\n",
              "      <td>1757.55</td>\n",
              "      <td>1</td>\n",
              "      <td>1757.550000</td>\n",
              "    </tr>\n",
              "    <tr>\n",
              "      <th>12350.0</th>\n",
              "      <td>334.40</td>\n",
              "      <td>1</td>\n",
              "      <td>334.400000</td>\n",
              "    </tr>\n",
              "    <tr>\n",
              "      <th>12352.0</th>\n",
              "      <td>2506.04</td>\n",
              "      <td>8</td>\n",
              "      <td>313.255000</td>\n",
              "    </tr>\n",
              "    <tr>\n",
              "      <th>12353.0</th>\n",
              "      <td>89.00</td>\n",
              "      <td>1</td>\n",
              "      <td>89.000000</td>\n",
              "    </tr>\n",
              "    <tr>\n",
              "      <th>12354.0</th>\n",
              "      <td>1079.40</td>\n",
              "      <td>1</td>\n",
              "      <td>1079.400000</td>\n",
              "    </tr>\n",
              "    <tr>\n",
              "      <th>12355.0</th>\n",
              "      <td>459.40</td>\n",
              "      <td>1</td>\n",
              "      <td>459.400000</td>\n",
              "    </tr>\n",
              "    <tr>\n",
              "      <th>12356.0</th>\n",
              "      <td>2811.43</td>\n",
              "      <td>3</td>\n",
              "      <td>937.143333</td>\n",
              "    </tr>\n",
              "    <tr>\n",
              "      <th>12357.0</th>\n",
              "      <td>6207.67</td>\n",
              "      <td>1</td>\n",
              "      <td>6207.670000</td>\n",
              "    </tr>\n",
              "    <tr>\n",
              "      <th>12358.0</th>\n",
              "      <td>484.86</td>\n",
              "      <td>1</td>\n",
              "      <td>484.860000</td>\n",
              "    </tr>\n",
              "    <tr>\n",
              "      <th>12359.0</th>\n",
              "      <td>6372.58</td>\n",
              "      <td>4</td>\n",
              "      <td>1593.145000</td>\n",
              "    </tr>\n",
              "    <tr>\n",
              "      <th>12360.0</th>\n",
              "      <td>2662.06</td>\n",
              "      <td>3</td>\n",
              "      <td>887.353333</td>\n",
              "    </tr>\n",
              "    <tr>\n",
              "      <th>12361.0</th>\n",
              "      <td>189.90</td>\n",
              "      <td>1</td>\n",
              "      <td>189.900000</td>\n",
              "    </tr>\n",
              "  </tbody>\n",
              "</table>\n",
              "</div>"
            ],
            "text/plain": [
              "            TotalSales  OrderCount  AvgOrderValue\n",
              "CustomerID                                       \n",
              "12346.0       77183.60           1   77183.600000\n",
              "12347.0        4085.18           6     680.863333\n",
              "12348.0        1797.24           4     449.310000\n",
              "12349.0        1757.55           1    1757.550000\n",
              "12350.0         334.40           1     334.400000\n",
              "12352.0        2506.04           8     313.255000\n",
              "12353.0          89.00           1      89.000000\n",
              "12354.0        1079.40           1    1079.400000\n",
              "12355.0         459.40           1     459.400000\n",
              "12356.0        2811.43           3     937.143333\n",
              "12357.0        6207.67           1    6207.670000\n",
              "12358.0         484.86           1     484.860000\n",
              "12359.0        6372.58           4    1593.145000\n",
              "12360.0        2662.06           3     887.353333\n",
              "12361.0         189.90           1     189.900000"
            ]
          },
          "metadata": {},
          "execution_count": 20
        }
      ]
    },
    {
      "cell_type": "code",
      "metadata": {
        "colab": {
          "base_uri": "https://localhost:8080/",
          "height": 297
        },
        "id": "-8SF13c0-2Ip",
        "outputId": "1fd6b059-df8d-44bb-9c7c-4b3e1c43c52b"
      },
      "source": [
        "customer_df.describe()"
      ],
      "execution_count": 21,
      "outputs": [
        {
          "output_type": "execute_result",
          "data": {
            "text/html": [
              "<div>\n",
              "<style scoped>\n",
              "    .dataframe tbody tr th:only-of-type {\n",
              "        vertical-align: middle;\n",
              "    }\n",
              "\n",
              "    .dataframe tbody tr th {\n",
              "        vertical-align: top;\n",
              "    }\n",
              "\n",
              "    .dataframe thead th {\n",
              "        text-align: right;\n",
              "    }\n",
              "</style>\n",
              "<table border=\"1\" class=\"dataframe\">\n",
              "  <thead>\n",
              "    <tr style=\"text-align: right;\">\n",
              "      <th></th>\n",
              "      <th>TotalSales</th>\n",
              "      <th>OrderCount</th>\n",
              "      <th>AvgOrderValue</th>\n",
              "    </tr>\n",
              "  </thead>\n",
              "  <tbody>\n",
              "    <tr>\n",
              "      <th>count</th>\n",
              "      <td>4298.000000</td>\n",
              "      <td>4298.000000</td>\n",
              "      <td>4298.000000</td>\n",
              "    </tr>\n",
              "    <tr>\n",
              "      <th>mean</th>\n",
              "      <td>1952.818779</td>\n",
              "      <td>4.131689</td>\n",
              "      <td>400.255621</td>\n",
              "    </tr>\n",
              "    <tr>\n",
              "      <th>std</th>\n",
              "      <td>8354.913254</td>\n",
              "      <td>7.420253</td>\n",
              "      <td>1271.187289</td>\n",
              "    </tr>\n",
              "    <tr>\n",
              "      <th>min</th>\n",
              "      <td>0.000000</td>\n",
              "      <td>1.000000</td>\n",
              "      <td>0.000000</td>\n",
              "    </tr>\n",
              "    <tr>\n",
              "      <th>25%</th>\n",
              "      <td>304.305000</td>\n",
              "      <td>1.000000</td>\n",
              "      <td>178.602500</td>\n",
              "    </tr>\n",
              "    <tr>\n",
              "      <th>50%</th>\n",
              "      <td>657.265000</td>\n",
              "      <td>2.000000</td>\n",
              "      <td>295.033958</td>\n",
              "    </tr>\n",
              "    <tr>\n",
              "      <th>75%</th>\n",
              "      <td>1599.515000</td>\n",
              "      <td>4.000000</td>\n",
              "      <td>431.594250</td>\n",
              "    </tr>\n",
              "    <tr>\n",
              "      <th>max</th>\n",
              "      <td>268478.000000</td>\n",
              "      <td>201.000000</td>\n",
              "      <td>77183.600000</td>\n",
              "    </tr>\n",
              "  </tbody>\n",
              "</table>\n",
              "</div>"
            ],
            "text/plain": [
              "          TotalSales   OrderCount  AvgOrderValue\n",
              "count    4298.000000  4298.000000    4298.000000\n",
              "mean     1952.818779     4.131689     400.255621\n",
              "std      8354.913254     7.420253    1271.187289\n",
              "min         0.000000     1.000000       0.000000\n",
              "25%       304.305000     1.000000     178.602500\n",
              "50%       657.265000     2.000000     295.033958\n",
              "75%      1599.515000     4.000000     431.594250\n",
              "max    268478.000000   201.000000   77183.600000"
            ]
          },
          "metadata": {},
          "execution_count": 21
        }
      ]
    },
    {
      "cell_type": "code",
      "metadata": {
        "id": "cWAvTauN-4Jw"
      },
      "source": [
        "rank_df = customer_df.rank(method='first')"
      ],
      "execution_count": 22,
      "outputs": []
    },
    {
      "cell_type": "code",
      "metadata": {
        "colab": {
          "base_uri": "https://localhost:8080/",
          "height": 545
        },
        "id": "_w2S-fdM-6dw",
        "outputId": "bc0cf956-a752-4fbc-da31-c42222645dc4"
      },
      "source": [
        "rank_df.head(15)"
      ],
      "execution_count": 23,
      "outputs": [
        {
          "output_type": "execute_result",
          "data": {
            "text/html": [
              "<div>\n",
              "<style scoped>\n",
              "    .dataframe tbody tr th:only-of-type {\n",
              "        vertical-align: middle;\n",
              "    }\n",
              "\n",
              "    .dataframe tbody tr th {\n",
              "        vertical-align: top;\n",
              "    }\n",
              "\n",
              "    .dataframe thead th {\n",
              "        text-align: right;\n",
              "    }\n",
              "</style>\n",
              "<table border=\"1\" class=\"dataframe\">\n",
              "  <thead>\n",
              "    <tr style=\"text-align: right;\">\n",
              "      <th></th>\n",
              "      <th>TotalSales</th>\n",
              "      <th>OrderCount</th>\n",
              "      <th>AvgOrderValue</th>\n",
              "    </tr>\n",
              "    <tr>\n",
              "      <th>CustomerID</th>\n",
              "      <th></th>\n",
              "      <th></th>\n",
              "      <th></th>\n",
              "    </tr>\n",
              "  </thead>\n",
              "  <tbody>\n",
              "    <tr>\n",
              "      <th>12346.0</th>\n",
              "      <td>4290.0</td>\n",
              "      <td>1.0</td>\n",
              "      <td>4298.0</td>\n",
              "    </tr>\n",
              "    <tr>\n",
              "      <th>12347.0</th>\n",
              "      <td>3958.0</td>\n",
              "      <td>3470.0</td>\n",
              "      <td>3888.0</td>\n",
              "    </tr>\n",
              "    <tr>\n",
              "      <th>12348.0</th>\n",
              "      <td>3350.0</td>\n",
              "      <td>2861.0</td>\n",
              "      <td>3303.0</td>\n",
              "    </tr>\n",
              "    <tr>\n",
              "      <th>12349.0</th>\n",
              "      <td>3321.0</td>\n",
              "      <td>2.0</td>\n",
              "      <td>4238.0</td>\n",
              "    </tr>\n",
              "    <tr>\n",
              "      <th>12350.0</th>\n",
              "      <td>1241.0</td>\n",
              "      <td>3.0</td>\n",
              "      <td>2561.0</td>\n",
              "    </tr>\n",
              "    <tr>\n",
              "      <th>12352.0</th>\n",
              "      <td>3630.0</td>\n",
              "      <td>3774.0</td>\n",
              "      <td>2360.0</td>\n",
              "    </tr>\n",
              "    <tr>\n",
              "      <th>12353.0</th>\n",
              "      <td>119.0</td>\n",
              "      <td>4.0</td>\n",
              "      <td>201.0</td>\n",
              "    </tr>\n",
              "    <tr>\n",
              "      <th>12354.0</th>\n",
              "      <td>2781.0</td>\n",
              "      <td>5.0</td>\n",
              "      <td>4151.0</td>\n",
              "    </tr>\n",
              "    <tr>\n",
              "      <th>12355.0</th>\n",
              "      <td>1670.0</td>\n",
              "      <td>6.0</td>\n",
              "      <td>3354.0</td>\n",
              "    </tr>\n",
              "    <tr>\n",
              "      <th>12356.0</th>\n",
              "      <td>3724.0</td>\n",
              "      <td>2346.0</td>\n",
              "      <td>4082.0</td>\n",
              "    </tr>\n",
              "    <tr>\n",
              "      <th>12357.0</th>\n",
              "      <td>4111.0</td>\n",
              "      <td>7.0</td>\n",
              "      <td>4295.0</td>\n",
              "    </tr>\n",
              "    <tr>\n",
              "      <th>12358.0</th>\n",
              "      <td>1738.0</td>\n",
              "      <td>8.0</td>\n",
              "      <td>3447.0</td>\n",
              "    </tr>\n",
              "    <tr>\n",
              "      <th>12359.0</th>\n",
              "      <td>4117.0</td>\n",
              "      <td>2862.0</td>\n",
              "      <td>4225.0</td>\n",
              "    </tr>\n",
              "    <tr>\n",
              "      <th>12360.0</th>\n",
              "      <td>3680.0</td>\n",
              "      <td>2347.0</td>\n",
              "      <td>4057.0</td>\n",
              "    </tr>\n",
              "    <tr>\n",
              "      <th>12361.0</th>\n",
              "      <td>607.0</td>\n",
              "      <td>9.0</td>\n",
              "      <td>1186.0</td>\n",
              "    </tr>\n",
              "  </tbody>\n",
              "</table>\n",
              "</div>"
            ],
            "text/plain": [
              "            TotalSales  OrderCount  AvgOrderValue\n",
              "CustomerID                                       \n",
              "12346.0         4290.0         1.0         4298.0\n",
              "12347.0         3958.0      3470.0         3888.0\n",
              "12348.0         3350.0      2861.0         3303.0\n",
              "12349.0         3321.0         2.0         4238.0\n",
              "12350.0         1241.0         3.0         2561.0\n",
              "12352.0         3630.0      3774.0         2360.0\n",
              "12353.0          119.0         4.0          201.0\n",
              "12354.0         2781.0         5.0         4151.0\n",
              "12355.0         1670.0         6.0         3354.0\n",
              "12356.0         3724.0      2346.0         4082.0\n",
              "12357.0         4111.0         7.0         4295.0\n",
              "12358.0         1738.0         8.0         3447.0\n",
              "12359.0         4117.0      2862.0         4225.0\n",
              "12360.0         3680.0      2347.0         4057.0\n",
              "12361.0          607.0         9.0         1186.0"
            ]
          },
          "metadata": {},
          "execution_count": 23
        }
      ]
    },
    {
      "cell_type": "code",
      "metadata": {
        "colab": {
          "base_uri": "https://localhost:8080/",
          "height": 297
        },
        "id": "IbUa4sy1-8D4",
        "outputId": "40e7fabe-cfd9-4928-b852-1145ee0c041a"
      },
      "source": [
        "rank_df.describe()"
      ],
      "execution_count": 24,
      "outputs": [
        {
          "output_type": "execute_result",
          "data": {
            "text/html": [
              "<div>\n",
              "<style scoped>\n",
              "    .dataframe tbody tr th:only-of-type {\n",
              "        vertical-align: middle;\n",
              "    }\n",
              "\n",
              "    .dataframe tbody tr th {\n",
              "        vertical-align: top;\n",
              "    }\n",
              "\n",
              "    .dataframe thead th {\n",
              "        text-align: right;\n",
              "    }\n",
              "</style>\n",
              "<table border=\"1\" class=\"dataframe\">\n",
              "  <thead>\n",
              "    <tr style=\"text-align: right;\">\n",
              "      <th></th>\n",
              "      <th>TotalSales</th>\n",
              "      <th>OrderCount</th>\n",
              "      <th>AvgOrderValue</th>\n",
              "    </tr>\n",
              "  </thead>\n",
              "  <tbody>\n",
              "    <tr>\n",
              "      <th>count</th>\n",
              "      <td>4298.000000</td>\n",
              "      <td>4298.000000</td>\n",
              "      <td>4298.000000</td>\n",
              "    </tr>\n",
              "    <tr>\n",
              "      <th>mean</th>\n",
              "      <td>2149.500000</td>\n",
              "      <td>2149.500000</td>\n",
              "      <td>2149.500000</td>\n",
              "    </tr>\n",
              "    <tr>\n",
              "      <th>std</th>\n",
              "      <td>1240.870058</td>\n",
              "      <td>1240.870058</td>\n",
              "      <td>1240.870058</td>\n",
              "    </tr>\n",
              "    <tr>\n",
              "      <th>min</th>\n",
              "      <td>1.000000</td>\n",
              "      <td>1.000000</td>\n",
              "      <td>1.000000</td>\n",
              "    </tr>\n",
              "    <tr>\n",
              "      <th>25%</th>\n",
              "      <td>1075.250000</td>\n",
              "      <td>1075.250000</td>\n",
              "      <td>1075.250000</td>\n",
              "    </tr>\n",
              "    <tr>\n",
              "      <th>50%</th>\n",
              "      <td>2149.500000</td>\n",
              "      <td>2149.500000</td>\n",
              "      <td>2149.500000</td>\n",
              "    </tr>\n",
              "    <tr>\n",
              "      <th>75%</th>\n",
              "      <td>3223.750000</td>\n",
              "      <td>3223.750000</td>\n",
              "      <td>3223.750000</td>\n",
              "    </tr>\n",
              "    <tr>\n",
              "      <th>max</th>\n",
              "      <td>4298.000000</td>\n",
              "      <td>4298.000000</td>\n",
              "      <td>4298.000000</td>\n",
              "    </tr>\n",
              "  </tbody>\n",
              "</table>\n",
              "</div>"
            ],
            "text/plain": [
              "        TotalSales   OrderCount  AvgOrderValue\n",
              "count  4298.000000  4298.000000    4298.000000\n",
              "mean   2149.500000  2149.500000    2149.500000\n",
              "std    1240.870058  1240.870058    1240.870058\n",
              "min       1.000000     1.000000       1.000000\n",
              "25%    1075.250000  1075.250000    1075.250000\n",
              "50%    2149.500000  2149.500000    2149.500000\n",
              "75%    3223.750000  3223.750000    3223.750000\n",
              "max    4298.000000  4298.000000    4298.000000"
            ]
          },
          "metadata": {},
          "execution_count": 24
        }
      ]
    },
    {
      "cell_type": "code",
      "metadata": {
        "id": "Gcal956-_DE3"
      },
      "source": [
        "normalized_df = (rank_df - rank_df.mean()) / rank_df.std()"
      ],
      "execution_count": 25,
      "outputs": []
    },
    {
      "cell_type": "code",
      "metadata": {
        "colab": {
          "base_uri": "https://localhost:8080/",
          "height": 545
        },
        "id": "ifKkl5EY_Fjf",
        "outputId": "a1ec1485-f53f-4256-bff9-733038ed0bf5"
      },
      "source": [
        "normalized_df.head(15)"
      ],
      "execution_count": 26,
      "outputs": [
        {
          "output_type": "execute_result",
          "data": {
            "text/html": [
              "<div>\n",
              "<style scoped>\n",
              "    .dataframe tbody tr th:only-of-type {\n",
              "        vertical-align: middle;\n",
              "    }\n",
              "\n",
              "    .dataframe tbody tr th {\n",
              "        vertical-align: top;\n",
              "    }\n",
              "\n",
              "    .dataframe thead th {\n",
              "        text-align: right;\n",
              "    }\n",
              "</style>\n",
              "<table border=\"1\" class=\"dataframe\">\n",
              "  <thead>\n",
              "    <tr style=\"text-align: right;\">\n",
              "      <th></th>\n",
              "      <th>TotalSales</th>\n",
              "      <th>OrderCount</th>\n",
              "      <th>AvgOrderValue</th>\n",
              "    </tr>\n",
              "    <tr>\n",
              "      <th>CustomerID</th>\n",
              "      <th></th>\n",
              "      <th></th>\n",
              "      <th></th>\n",
              "    </tr>\n",
              "  </thead>\n",
              "  <tbody>\n",
              "    <tr>\n",
              "      <th>12346.0</th>\n",
              "      <td>1.724999</td>\n",
              "      <td>-1.731446</td>\n",
              "      <td>1.731446</td>\n",
              "    </tr>\n",
              "    <tr>\n",
              "      <th>12347.0</th>\n",
              "      <td>1.457445</td>\n",
              "      <td>1.064173</td>\n",
              "      <td>1.401033</td>\n",
              "    </tr>\n",
              "    <tr>\n",
              "      <th>12348.0</th>\n",
              "      <td>0.967466</td>\n",
              "      <td>0.573388</td>\n",
              "      <td>0.929590</td>\n",
              "    </tr>\n",
              "    <tr>\n",
              "      <th>12349.0</th>\n",
              "      <td>0.944096</td>\n",
              "      <td>-1.730641</td>\n",
              "      <td>1.683093</td>\n",
              "    </tr>\n",
              "    <tr>\n",
              "      <th>12350.0</th>\n",
              "      <td>-0.732148</td>\n",
              "      <td>-1.729835</td>\n",
              "      <td>0.331622</td>\n",
              "    </tr>\n",
              "    <tr>\n",
              "      <th>12352.0</th>\n",
              "      <td>1.193114</td>\n",
              "      <td>1.309162</td>\n",
              "      <td>0.169639</td>\n",
              "    </tr>\n",
              "    <tr>\n",
              "      <th>12353.0</th>\n",
              "      <td>-1.636352</td>\n",
              "      <td>-1.729029</td>\n",
              "      <td>-1.570269</td>\n",
              "    </tr>\n",
              "    <tr>\n",
              "      <th>12354.0</th>\n",
              "      <td>0.508917</td>\n",
              "      <td>-1.728223</td>\n",
              "      <td>1.612981</td>\n",
              "    </tr>\n",
              "    <tr>\n",
              "      <th>12355.0</th>\n",
              "      <td>-0.386422</td>\n",
              "      <td>-1.727417</td>\n",
              "      <td>0.970690</td>\n",
              "    </tr>\n",
              "    <tr>\n",
              "      <th>12356.0</th>\n",
              "      <td>1.268868</td>\n",
              "      <td>0.158357</td>\n",
              "      <td>1.557375</td>\n",
              "    </tr>\n",
              "    <tr>\n",
              "      <th>12357.0</th>\n",
              "      <td>1.580746</td>\n",
              "      <td>-1.726611</td>\n",
              "      <td>1.729029</td>\n",
              "    </tr>\n",
              "    <tr>\n",
              "      <th>12358.0</th>\n",
              "      <td>-0.331622</td>\n",
              "      <td>-1.725805</td>\n",
              "      <td>1.045637</td>\n",
              "    </tr>\n",
              "    <tr>\n",
              "      <th>12359.0</th>\n",
              "      <td>1.585581</td>\n",
              "      <td>0.574194</td>\n",
              "      <td>1.672617</td>\n",
              "    </tr>\n",
              "    <tr>\n",
              "      <th>12360.0</th>\n",
              "      <td>1.233409</td>\n",
              "      <td>0.159163</td>\n",
              "      <td>1.537228</td>\n",
              "    </tr>\n",
              "    <tr>\n",
              "      <th>12361.0</th>\n",
              "      <td>-1.243079</td>\n",
              "      <td>-1.724999</td>\n",
              "      <td>-0.776471</td>\n",
              "    </tr>\n",
              "  </tbody>\n",
              "</table>\n",
              "</div>"
            ],
            "text/plain": [
              "            TotalSales  OrderCount  AvgOrderValue\n",
              "CustomerID                                       \n",
              "12346.0       1.724999   -1.731446       1.731446\n",
              "12347.0       1.457445    1.064173       1.401033\n",
              "12348.0       0.967466    0.573388       0.929590\n",
              "12349.0       0.944096   -1.730641       1.683093\n",
              "12350.0      -0.732148   -1.729835       0.331622\n",
              "12352.0       1.193114    1.309162       0.169639\n",
              "12353.0      -1.636352   -1.729029      -1.570269\n",
              "12354.0       0.508917   -1.728223       1.612981\n",
              "12355.0      -0.386422   -1.727417       0.970690\n",
              "12356.0       1.268868    0.158357       1.557375\n",
              "12357.0       1.580746   -1.726611       1.729029\n",
              "12358.0      -0.331622   -1.725805       1.045637\n",
              "12359.0       1.585581    0.574194       1.672617\n",
              "12360.0       1.233409    0.159163       1.537228\n",
              "12361.0      -1.243079   -1.724999      -0.776471"
            ]
          },
          "metadata": {},
          "execution_count": 26
        }
      ]
    },
    {
      "cell_type": "code",
      "metadata": {
        "colab": {
          "base_uri": "https://localhost:8080/",
          "height": 297
        },
        "id": "_EfbiBtz_HY_",
        "outputId": "fa124848-0a25-4b46-e9dc-833ffd428c42"
      },
      "source": [
        "normalized_df.describe()"
      ],
      "execution_count": 27,
      "outputs": [
        {
          "output_type": "execute_result",
          "data": {
            "text/html": [
              "<div>\n",
              "<style scoped>\n",
              "    .dataframe tbody tr th:only-of-type {\n",
              "        vertical-align: middle;\n",
              "    }\n",
              "\n",
              "    .dataframe tbody tr th {\n",
              "        vertical-align: top;\n",
              "    }\n",
              "\n",
              "    .dataframe thead th {\n",
              "        text-align: right;\n",
              "    }\n",
              "</style>\n",
              "<table border=\"1\" class=\"dataframe\">\n",
              "  <thead>\n",
              "    <tr style=\"text-align: right;\">\n",
              "      <th></th>\n",
              "      <th>TotalSales</th>\n",
              "      <th>OrderCount</th>\n",
              "      <th>AvgOrderValue</th>\n",
              "    </tr>\n",
              "  </thead>\n",
              "  <tbody>\n",
              "    <tr>\n",
              "      <th>count</th>\n",
              "      <td>4.298000e+03</td>\n",
              "      <td>4.298000e+03</td>\n",
              "      <td>4.298000e+03</td>\n",
              "    </tr>\n",
              "    <tr>\n",
              "      <th>mean</th>\n",
              "      <td>9.952744e-17</td>\n",
              "      <td>-1.231371e-16</td>\n",
              "      <td>5.719018e-17</td>\n",
              "    </tr>\n",
              "    <tr>\n",
              "      <th>std</th>\n",
              "      <td>1.000000e+00</td>\n",
              "      <td>1.000000e+00</td>\n",
              "      <td>1.000000e+00</td>\n",
              "    </tr>\n",
              "    <tr>\n",
              "      <th>min</th>\n",
              "      <td>-1.731446e+00</td>\n",
              "      <td>-1.731446e+00</td>\n",
              "      <td>-1.731446e+00</td>\n",
              "    </tr>\n",
              "    <tr>\n",
              "      <th>25%</th>\n",
              "      <td>-8.657232e-01</td>\n",
              "      <td>-8.657232e-01</td>\n",
              "      <td>-8.657232e-01</td>\n",
              "    </tr>\n",
              "    <tr>\n",
              "      <th>50%</th>\n",
              "      <td>0.000000e+00</td>\n",
              "      <td>0.000000e+00</td>\n",
              "      <td>0.000000e+00</td>\n",
              "    </tr>\n",
              "    <tr>\n",
              "      <th>75%</th>\n",
              "      <td>8.657232e-01</td>\n",
              "      <td>8.657232e-01</td>\n",
              "      <td>8.657232e-01</td>\n",
              "    </tr>\n",
              "    <tr>\n",
              "      <th>max</th>\n",
              "      <td>1.731446e+00</td>\n",
              "      <td>1.731446e+00</td>\n",
              "      <td>1.731446e+00</td>\n",
              "    </tr>\n",
              "  </tbody>\n",
              "</table>\n",
              "</div>"
            ],
            "text/plain": [
              "         TotalSales    OrderCount  AvgOrderValue\n",
              "count  4.298000e+03  4.298000e+03   4.298000e+03\n",
              "mean   9.952744e-17 -1.231371e-16   5.719018e-17\n",
              "std    1.000000e+00  1.000000e+00   1.000000e+00\n",
              "min   -1.731446e+00 -1.731446e+00  -1.731446e+00\n",
              "25%   -8.657232e-01 -8.657232e-01  -8.657232e-01\n",
              "50%    0.000000e+00  0.000000e+00   0.000000e+00\n",
              "75%    8.657232e-01  8.657232e-01   8.657232e-01\n",
              "max    1.731446e+00  1.731446e+00   1.731446e+00"
            ]
          },
          "metadata": {},
          "execution_count": 27
        }
      ]
    },
    {
      "cell_type": "code",
      "metadata": {
        "id": "z4BvGZy3_QjF"
      },
      "source": [
        "from sklearn.cluster import KMeans"
      ],
      "execution_count": 28,
      "outputs": []
    },
    {
      "cell_type": "code",
      "metadata": {
        "id": "_LdA3u91_Ww8"
      },
      "source": [
        "kmeans = KMeans(n_clusters=4).fit(normalized_df[['TotalSales', 'OrderCount', 'AvgOrderValue']])"
      ],
      "execution_count": 29,
      "outputs": []
    },
    {
      "cell_type": "code",
      "metadata": {
        "colab": {
          "base_uri": "https://localhost:8080/"
        },
        "id": "zU9X9j85_eKL",
        "outputId": "1072578d-bbbd-4752-d5c9-957a95a9247a"
      },
      "source": [
        "kmeans.labels_"
      ],
      "execution_count": 30,
      "outputs": [
        {
          "output_type": "execute_result",
          "data": {
            "text/plain": [
              "array([2, 1, 1, ..., 0, 3, 1], dtype=int32)"
            ]
          },
          "metadata": {},
          "execution_count": 30
        }
      ]
    },
    {
      "cell_type": "code",
      "metadata": {
        "colab": {
          "base_uri": "https://localhost:8080/"
        },
        "id": "AO0TcUC-_f4q",
        "outputId": "19881ddc-9323-444e-f4d9-8c039fb30514"
      },
      "source": [
        "kmeans.cluster_centers_"
      ],
      "execution_count": 31,
      "outputs": [
        {
          "output_type": "execute_result",
          "data": {
            "text/plain": [
              "array([[-1.23320643, -0.78328934, -1.05477387],\n",
              "       [ 1.20560712,  1.00092206,  0.87684636],\n",
              "       [-0.13400919, -0.84786405,  0.79478821],\n",
              "       [ 0.24537423,  0.74226381, -0.64110485]])"
            ]
          },
          "metadata": {},
          "execution_count": 31
        }
      ]
    },
    {
      "cell_type": "code",
      "metadata": {
        "id": "MI3TGTGF_h7D"
      },
      "source": [
        "four_cluster_df = normalized_df[['TotalSales', 'OrderCount', 'AvgOrderValue']].copy(deep=True)\n",
        "four_cluster_df['Cluster'] = kmeans.labels_"
      ],
      "execution_count": 32,
      "outputs": []
    },
    {
      "cell_type": "code",
      "metadata": {
        "colab": {
          "base_uri": "https://localhost:8080/",
          "height": 235
        },
        "id": "-kO7O5PL_mzL",
        "outputId": "44c03af1-c61c-4c2a-e928-695012667485"
      },
      "source": [
        "four_cluster_df.head()"
      ],
      "execution_count": 33,
      "outputs": [
        {
          "output_type": "execute_result",
          "data": {
            "text/html": [
              "<div>\n",
              "<style scoped>\n",
              "    .dataframe tbody tr th:only-of-type {\n",
              "        vertical-align: middle;\n",
              "    }\n",
              "\n",
              "    .dataframe tbody tr th {\n",
              "        vertical-align: top;\n",
              "    }\n",
              "\n",
              "    .dataframe thead th {\n",
              "        text-align: right;\n",
              "    }\n",
              "</style>\n",
              "<table border=\"1\" class=\"dataframe\">\n",
              "  <thead>\n",
              "    <tr style=\"text-align: right;\">\n",
              "      <th></th>\n",
              "      <th>TotalSales</th>\n",
              "      <th>OrderCount</th>\n",
              "      <th>AvgOrderValue</th>\n",
              "      <th>Cluster</th>\n",
              "    </tr>\n",
              "    <tr>\n",
              "      <th>CustomerID</th>\n",
              "      <th></th>\n",
              "      <th></th>\n",
              "      <th></th>\n",
              "      <th></th>\n",
              "    </tr>\n",
              "  </thead>\n",
              "  <tbody>\n",
              "    <tr>\n",
              "      <th>12346.0</th>\n",
              "      <td>1.724999</td>\n",
              "      <td>-1.731446</td>\n",
              "      <td>1.731446</td>\n",
              "      <td>2</td>\n",
              "    </tr>\n",
              "    <tr>\n",
              "      <th>12347.0</th>\n",
              "      <td>1.457445</td>\n",
              "      <td>1.064173</td>\n",
              "      <td>1.401033</td>\n",
              "      <td>1</td>\n",
              "    </tr>\n",
              "    <tr>\n",
              "      <th>12348.0</th>\n",
              "      <td>0.967466</td>\n",
              "      <td>0.573388</td>\n",
              "      <td>0.929590</td>\n",
              "      <td>1</td>\n",
              "    </tr>\n",
              "    <tr>\n",
              "      <th>12349.0</th>\n",
              "      <td>0.944096</td>\n",
              "      <td>-1.730641</td>\n",
              "      <td>1.683093</td>\n",
              "      <td>2</td>\n",
              "    </tr>\n",
              "    <tr>\n",
              "      <th>12350.0</th>\n",
              "      <td>-0.732148</td>\n",
              "      <td>-1.729835</td>\n",
              "      <td>0.331622</td>\n",
              "      <td>2</td>\n",
              "    </tr>\n",
              "  </tbody>\n",
              "</table>\n",
              "</div>"
            ],
            "text/plain": [
              "            TotalSales  OrderCount  AvgOrderValue  Cluster\n",
              "CustomerID                                                \n",
              "12346.0       1.724999   -1.731446       1.731446        2\n",
              "12347.0       1.457445    1.064173       1.401033        1\n",
              "12348.0       0.967466    0.573388       0.929590        1\n",
              "12349.0       0.944096   -1.730641       1.683093        2\n",
              "12350.0      -0.732148   -1.729835       0.331622        2"
            ]
          },
          "metadata": {},
          "execution_count": 33
        }
      ]
    },
    {
      "cell_type": "code",
      "metadata": {
        "colab": {
          "base_uri": "https://localhost:8080/"
        },
        "id": "2BKf5cPpADLP",
        "outputId": "3b394444-0c9a-4c55-aac6-30c51ecfdd72"
      },
      "source": [
        "four_cluster_df.groupby('Cluster').count()['TotalSales']"
      ],
      "execution_count": 34,
      "outputs": [
        {
          "output_type": "execute_result",
          "data": {
            "text/plain": [
              "Cluster\n",
              "0    1169\n",
              "1    1126\n",
              "2    1066\n",
              "3     937\n",
              "Name: TotalSales, dtype: int64"
            ]
          },
          "metadata": {},
          "execution_count": 34
        }
      ]
    },
    {
      "cell_type": "code",
      "metadata": {
        "colab": {
          "base_uri": "https://localhost:8080/",
          "height": 851
        },
        "id": "NHPuXiRkAIMm",
        "outputId": "cb447f6f-8335-4ca4-baf3-54f87aa194d3"
      },
      "source": [
        "plt.scatter(\n",
        "    four_cluster_df.loc[four_cluster_df['Cluster'] == 0]['OrderCount'], \n",
        "    four_cluster_df.loc[four_cluster_df['Cluster'] == 0]['TotalSales'],\n",
        "    c='blue'\n",
        ")\n",
        "\n",
        "plt.scatter(\n",
        "    four_cluster_df.loc[four_cluster_df['Cluster'] == 1]['OrderCount'], \n",
        "    four_cluster_df.loc[four_cluster_df['Cluster'] == 1]['TotalSales'],\n",
        "    c='red'\n",
        ")\n",
        "\n",
        "plt.scatter(\n",
        "    four_cluster_df.loc[four_cluster_df['Cluster'] == 2]['OrderCount'], \n",
        "    four_cluster_df.loc[four_cluster_df['Cluster'] == 2]['TotalSales'],\n",
        "    c='orange'\n",
        ")\n",
        "\n",
        "plt.scatter(\n",
        "    four_cluster_df.loc[four_cluster_df['Cluster'] == 3]['OrderCount'], \n",
        "    four_cluster_df.loc[four_cluster_df['Cluster'] == 3]['TotalSales'],\n",
        "    c='green'\n",
        ")\n",
        "\n",
        "plt.title('TotalSales vs. OrderCount Clusters')\n",
        "plt.xlabel('Order Count')\n",
        "plt.ylabel('Total Sales')\n",
        "\n",
        "plt.grid()\n",
        "plt.show()\n",
        "\n",
        "\n",
        "plt.scatter(\n",
        "    four_cluster_df.loc[four_cluster_df['Cluster'] == 0]['OrderCount'], \n",
        "    four_cluster_df.loc[four_cluster_df['Cluster'] == 0]['AvgOrderValue'],\n",
        "    c='blue'\n",
        ")\n",
        "\n",
        "plt.scatter(\n",
        "    four_cluster_df.loc[four_cluster_df['Cluster'] == 1]['OrderCount'], \n",
        "    four_cluster_df.loc[four_cluster_df['Cluster'] == 1]['AvgOrderValue'],\n",
        "    c='red'\n",
        ")\n",
        "\n",
        "plt.scatter(\n",
        "    four_cluster_df.loc[four_cluster_df['Cluster'] == 2]['OrderCount'], \n",
        "    four_cluster_df.loc[four_cluster_df['Cluster'] == 2]['AvgOrderValue'],\n",
        "    c='orange'\n",
        ")\n",
        "\n",
        "plt.scatter(\n",
        "    four_cluster_df.loc[four_cluster_df['Cluster'] == 3]['OrderCount'], \n",
        "    four_cluster_df.loc[four_cluster_df['Cluster'] == 3]['AvgOrderValue'],\n",
        "    c='green'\n",
        ")\n",
        "\n",
        "plt.title('AvgOrderValue vs. OrderCount Clusters')\n",
        "plt.xlabel('Order Count')\n",
        "plt.ylabel('Avg Order Value')\n",
        "\n",
        "plt.grid()\n",
        "plt.show()\n",
        "\n",
        "\n",
        "plt.scatter(\n",
        "    four_cluster_df.loc[four_cluster_df['Cluster'] == 0]['TotalSales'], \n",
        "    four_cluster_df.loc[four_cluster_df['Cluster'] == 0]['AvgOrderValue'],\n",
        "    c='blue'\n",
        ")\n",
        "\n",
        "plt.scatter(\n",
        "    four_cluster_df.loc[four_cluster_df['Cluster'] == 1]['TotalSales'], \n",
        "    four_cluster_df.loc[four_cluster_df['Cluster'] == 1]['AvgOrderValue'],\n",
        "    c='red'\n",
        ")\n",
        "\n",
        "plt.scatter(\n",
        "    four_cluster_df.loc[four_cluster_df['Cluster'] == 2]['TotalSales'], \n",
        "    four_cluster_df.loc[four_cluster_df['Cluster'] == 2]['AvgOrderValue'],\n",
        "    c='orange'\n",
        ")\n",
        "\n",
        "plt.scatter(\n",
        "    four_cluster_df.loc[four_cluster_df['Cluster'] == 3]['TotalSales'], \n",
        "    four_cluster_df.loc[four_cluster_df['Cluster'] == 3]['AvgOrderValue'],\n",
        "    c='green'\n",
        ")\n",
        "\n",
        "plt.title('AvgOrderValue vs. TotalSales Clusters')\n",
        "plt.xlabel('Total Sales')\n",
        "plt.ylabel('Avg Order Value')\n",
        "\n",
        "plt.grid()\n",
        "plt.show()"
      ],
      "execution_count": 35,
      "outputs": [
        {
          "output_type": "display_data",
          "data": {
            "image/png": "[encoded data removed]",
            "text/plain": [
              "<Figure size 432x288 with 1 Axes>"
            ]
          },
          "metadata": {
            "needs_background": "light"
          }
        },
        {
          "output_type": "display_data",
          "data": {
            "image/png": "[encoded data removed]",
            "text/plain": [
              "<Figure size 432x288 with 1 Axes>"
            ]
          },
          "metadata": {
            "needs_background": "light"
          }
        },
        {
          "output_type": "display_data",
          "data": {
            "image/png": "[encoded data removed]",
            "text/plain": [
              "<Figure size 432x288 with 1 Axes>"
            ]
          },
          "metadata": {
            "needs_background": "light"
          }
        }
      ]
    },
    {
      "cell_type": "code",
      "metadata": {
        "id": "miukZ9_cAU51"
      },
      "source": [
        "from sklearn.metrics import silhouette_score"
      ],
      "execution_count": 36,
      "outputs": []
    },
    {
      "cell_type": "code",
      "metadata": {
        "colab": {
          "base_uri": "https://localhost:8080/"
        },
        "id": "VUb1mDl2Ab9d",
        "outputId": "6a46ceeb-acb6-4204-dd40-5bae73a83ca0"
      },
      "source": [
        "for n_cluster in [4,5,6,7,8]:\n",
        "    kmeans = KMeans(n_clusters=n_cluster).fit(\n",
        "        normalized_df[['TotalSales', 'OrderCount', 'AvgOrderValue']]\n",
        "    )\n",
        "    silhouette_avg = silhouette_score(\n",
        "        normalized_df[['TotalSales', 'OrderCount', 'AvgOrderValue']], \n",
        "        kmeans.labels_\n",
        "    )\n",
        "    \n",
        "    print('Silhouette Score for %i Clusters: %0.4f' % (n_cluster, silhouette_avg))"
      ],
      "execution_count": 37,
      "outputs": [
        {
          "output_type": "stream",
          "name": "stdout",
          "text": [
            "Silhouette Score for 4 Clusters: 0.4112\n",
            "Silhouette Score for 5 Clusters: 0.3779\n",
            "Silhouette Score for 6 Clusters: 0.3783\n",
            "Silhouette Score for 7 Clusters: 0.3907\n",
            "Silhouette Score for 8 Clusters: 0.3808\n"
          ]
        }
      ]
    },
    {
      "cell_type": "code",
      "metadata": {
        "id": "Bk4kuWlxAeUk"
      },
      "source": [
        "kmeans = KMeans(n_clusters=4).fit(\n",
        "    normalized_df[['TotalSales', 'OrderCount', 'AvgOrderValue']]\n",
        ")"
      ],
      "execution_count": 38,
      "outputs": []
    },
    {
      "cell_type": "code",
      "metadata": {
        "id": "2oFR3zitAheL"
      },
      "source": [
        "four_cluster_df = normalized_df[['TotalSales', 'OrderCount', 'AvgOrderValue']].copy(deep=True)\n",
        "four_cluster_df['Cluster'] = kmeans.labels_"
      ],
      "execution_count": 39,
      "outputs": []
    },
    {
      "cell_type": "code",
      "metadata": {
        "colab": {
          "base_uri": "https://localhost:8080/",
          "height": 545
        },
        "id": "1jjv5PxWAjus",
        "outputId": "743de693-37fa-4103-edf8-b3fd37779c6a"
      },
      "source": [
        "four_cluster_df.head(15)"
      ],
      "execution_count": 40,
      "outputs": [
        {
          "output_type": "execute_result",
          "data": {
            "text/html": [
              "<div>\n",
              "<style scoped>\n",
              "    .dataframe tbody tr th:only-of-type {\n",
              "        vertical-align: middle;\n",
              "    }\n",
              "\n",
              "    .dataframe tbody tr th {\n",
              "        vertical-align: top;\n",
              "    }\n",
              "\n",
              "    .dataframe thead th {\n",
              "        text-align: right;\n",
              "    }\n",
              "</style>\n",
              "<table border=\"1\" class=\"dataframe\">\n",
              "  <thead>\n",
              "    <tr style=\"text-align: right;\">\n",
              "      <th></th>\n",
              "      <th>TotalSales</th>\n",
              "      <th>OrderCount</th>\n",
              "      <th>AvgOrderValue</th>\n",
              "      <th>Cluster</th>\n",
              "    </tr>\n",
              "    <tr>\n",
              "      <th>CustomerID</th>\n",
              "      <th></th>\n",
              "      <th></th>\n",
              "      <th></th>\n",
              "      <th></th>\n",
              "    </tr>\n",
              "  </thead>\n",
              "  <tbody>\n",
              "    <tr>\n",
              "      <th>12346.0</th>\n",
              "      <td>1.724999</td>\n",
              "      <td>-1.731446</td>\n",
              "      <td>1.731446</td>\n",
              "      <td>3</td>\n",
              "    </tr>\n",
              "    <tr>\n",
              "      <th>12347.0</th>\n",
              "      <td>1.457445</td>\n",
              "      <td>1.064173</td>\n",
              "      <td>1.401033</td>\n",
              "      <td>2</td>\n",
              "    </tr>\n",
              "    <tr>\n",
              "      <th>12348.0</th>\n",
              "      <td>0.967466</td>\n",
              "      <td>0.573388</td>\n",
              "      <td>0.929590</td>\n",
              "      <td>2</td>\n",
              "    </tr>\n",
              "    <tr>\n",
              "      <th>12349.0</th>\n",
              "      <td>0.944096</td>\n",
              "      <td>-1.730641</td>\n",
              "      <td>1.683093</td>\n",
              "      <td>3</td>\n",
              "    </tr>\n",
              "    <tr>\n",
              "      <th>12350.0</th>\n",
              "      <td>-0.732148</td>\n",
              "      <td>-1.729835</td>\n",
              "      <td>0.331622</td>\n",
              "      <td>3</td>\n",
              "    </tr>\n",
              "    <tr>\n",
              "      <th>12352.0</th>\n",
              "      <td>1.193114</td>\n",
              "      <td>1.309162</td>\n",
              "      <td>0.169639</td>\n",
              "      <td>2</td>\n",
              "    </tr>\n",
              "    <tr>\n",
              "      <th>12353.0</th>\n",
              "      <td>-1.636352</td>\n",
              "      <td>-1.729029</td>\n",
              "      <td>-1.570269</td>\n",
              "      <td>0</td>\n",
              "    </tr>\n",
              "    <tr>\n",
              "      <th>12354.0</th>\n",
              "      <td>0.508917</td>\n",
              "      <td>-1.728223</td>\n",
              "      <td>1.612981</td>\n",
              "      <td>3</td>\n",
              "    </tr>\n",
              "    <tr>\n",
              "      <th>12355.0</th>\n",
              "      <td>-0.386422</td>\n",
              "      <td>-1.727417</td>\n",
              "      <td>0.970690</td>\n",
              "      <td>3</td>\n",
              "    </tr>\n",
              "    <tr>\n",
              "      <th>12356.0</th>\n",
              "      <td>1.268868</td>\n",
              "      <td>0.158357</td>\n",
              "      <td>1.557375</td>\n",
              "      <td>2</td>\n",
              "    </tr>\n",
              "    <tr>\n",
              "      <th>12357.0</th>\n",
              "      <td>1.580746</td>\n",
              "      <td>-1.726611</td>\n",
              "      <td>1.729029</td>\n",
              "      <td>3</td>\n",
              "    </tr>\n",
              "    <tr>\n",
              "      <th>12358.0</th>\n",
              "      <td>-0.331622</td>\n",
              "      <td>-1.725805</td>\n",
              "      <td>1.045637</td>\n",
              "      <td>3</td>\n",
              "    </tr>\n",
              "    <tr>\n",
              "      <th>12359.0</th>\n",
              "      <td>1.585581</td>\n",
              "      <td>0.574194</td>\n",
              "      <td>1.672617</td>\n",
              "      <td>2</td>\n",
              "    </tr>\n",
              "    <tr>\n",
              "      <th>12360.0</th>\n",
              "      <td>1.233409</td>\n",
              "      <td>0.159163</td>\n",
              "      <td>1.537228</td>\n",
              "      <td>2</td>\n",
              "    </tr>\n",
              "    <tr>\n",
              "      <th>12361.0</th>\n",
              "      <td>-1.243079</td>\n",
              "      <td>-1.724999</td>\n",
              "      <td>-0.776471</td>\n",
              "      <td>0</td>\n",
              "    </tr>\n",
              "  </tbody>\n",
              "</table>\n",
              "</div>"
            ],
            "text/plain": [
              "            TotalSales  OrderCount  AvgOrderValue  Cluster\n",
              "CustomerID                                                \n",
              "12346.0       1.724999   -1.731446       1.731446        3\n",
              "12347.0       1.457445    1.064173       1.401033        2\n",
              "12348.0       0.967466    0.573388       0.929590        2\n",
              "12349.0       0.944096   -1.730641       1.683093        3\n",
              "12350.0      -0.732148   -1.729835       0.331622        3\n",
              "12352.0       1.193114    1.309162       0.169639        2\n",
              "12353.0      -1.636352   -1.729029      -1.570269        0\n",
              "12354.0       0.508917   -1.728223       1.612981        3\n",
              "12355.0      -0.386422   -1.727417       0.970690        3\n",
              "12356.0       1.268868    0.158357       1.557375        2\n",
              "12357.0       1.580746   -1.726611       1.729029        3\n",
              "12358.0      -0.331622   -1.725805       1.045637        3\n",
              "12359.0       1.585581    0.574194       1.672617        2\n",
              "12360.0       1.233409    0.159163       1.537228        2\n",
              "12361.0      -1.243079   -1.724999      -0.776471        0"
            ]
          },
          "metadata": {},
          "execution_count": 40
        }
      ]
    },
    {
      "cell_type": "code",
      "metadata": {
        "colab": {
          "base_uri": "https://localhost:8080/"
        },
        "id": "Pf56Go1cAl2b",
        "outputId": "c43492c7-d2f9-4feb-b037-fef0de8bbf2e"
      },
      "source": [
        "kmeans.cluster_centers_"
      ],
      "execution_count": 41,
      "outputs": [
        {
          "output_type": "execute_result",
          "data": {
            "text/plain": [
              "array([[-1.24740111, -0.79771663, -1.06234098],\n",
              "       [ 0.21602564,  0.71335285, -0.64277193],\n",
              "       [ 1.20616213,  1.00465293,  0.86803675],\n",
              "       [-0.13462582, -0.85120796,  0.79713626]])"
            ]
          },
          "metadata": {},
          "execution_count": 41
        }
      ]
    },
    {
      "cell_type": "code",
      "metadata": {
        "colab": {
          "base_uri": "https://localhost:8080/",
          "height": 235
        },
        "id": "09kfnSO2A57Q",
        "outputId": "510d235b-d8b3-4b67-883d-cfe16e0b5f19"
      },
      "source": [
        "high_value_cluster = four_cluster_df.loc[four_cluster_df['Cluster'] == 2]\n",
        "high_value_cluster.head()"
      ],
      "execution_count": 42,
      "outputs": [
        {
          "output_type": "execute_result",
          "data": {
            "text/html": [
              "<div>\n",
              "<style scoped>\n",
              "    .dataframe tbody tr th:only-of-type {\n",
              "        vertical-align: middle;\n",
              "    }\n",
              "\n",
              "    .dataframe tbody tr th {\n",
              "        vertical-align: top;\n",
              "    }\n",
              "\n",
              "    .dataframe thead th {\n",
              "        text-align: right;\n",
              "    }\n",
              "</style>\n",
              "<table border=\"1\" class=\"dataframe\">\n",
              "  <thead>\n",
              "    <tr style=\"text-align: right;\">\n",
              "      <th></th>\n",
              "      <th>TotalSales</th>\n",
              "      <th>OrderCount</th>\n",
              "      <th>AvgOrderValue</th>\n",
              "      <th>Cluster</th>\n",
              "    </tr>\n",
              "    <tr>\n",
              "      <th>CustomerID</th>\n",
              "      <th></th>\n",
              "      <th></th>\n",
              "      <th></th>\n",
              "      <th></th>\n",
              "    </tr>\n",
              "  </thead>\n",
              "  <tbody>\n",
              "    <tr>\n",
              "      <th>12347.0</th>\n",
              "      <td>1.457445</td>\n",
              "      <td>1.064173</td>\n",
              "      <td>1.401033</td>\n",
              "      <td>2</td>\n",
              "    </tr>\n",
              "    <tr>\n",
              "      <th>12348.0</th>\n",
              "      <td>0.967466</td>\n",
              "      <td>0.573388</td>\n",
              "      <td>0.929590</td>\n",
              "      <td>2</td>\n",
              "    </tr>\n",
              "    <tr>\n",
              "      <th>12352.0</th>\n",
              "      <td>1.193114</td>\n",
              "      <td>1.309162</td>\n",
              "      <td>0.169639</td>\n",
              "      <td>2</td>\n",
              "    </tr>\n",
              "    <tr>\n",
              "      <th>12356.0</th>\n",
              "      <td>1.268868</td>\n",
              "      <td>0.158357</td>\n",
              "      <td>1.557375</td>\n",
              "      <td>2</td>\n",
              "    </tr>\n",
              "    <tr>\n",
              "      <th>12359.0</th>\n",
              "      <td>1.585581</td>\n",
              "      <td>0.574194</td>\n",
              "      <td>1.672617</td>\n",
              "      <td>2</td>\n",
              "    </tr>\n",
              "  </tbody>\n",
              "</table>\n",
              "</div>"
            ],
            "text/plain": [
              "            TotalSales  OrderCount  AvgOrderValue  Cluster\n",
              "CustomerID                                                \n",
              "12347.0       1.457445    1.064173       1.401033        2\n",
              "12348.0       0.967466    0.573388       0.929590        2\n",
              "12352.0       1.193114    1.309162       0.169639        2\n",
              "12356.0       1.268868    0.158357       1.557375        2\n",
              "12359.0       1.585581    0.574194       1.672617        2"
            ]
          },
          "metadata": {},
          "execution_count": 42
        }
      ]
    },
    {
      "cell_type": "code",
      "metadata": {
        "colab": {
          "base_uri": "https://localhost:8080/",
          "height": 297
        },
        "id": "wph8wbjOA-UQ",
        "outputId": "ed9bcade-2c65-4c8d-eb23-fda66266cd7d"
      },
      "source": [
        "customer_df.loc[high_value_cluster.index].describe()"
      ],
      "execution_count": 43,
      "outputs": [
        {
          "output_type": "execute_result",
          "data": {
            "text/html": [
              "<div>\n",
              "<style scoped>\n",
              "    .dataframe tbody tr th:only-of-type {\n",
              "        vertical-align: middle;\n",
              "    }\n",
              "\n",
              "    .dataframe tbody tr th {\n",
              "        vertical-align: top;\n",
              "    }\n",
              "\n",
              "    .dataframe thead th {\n",
              "        text-align: right;\n",
              "    }\n",
              "</style>\n",
              "<table border=\"1\" class=\"dataframe\">\n",
              "  <thead>\n",
              "    <tr style=\"text-align: right;\">\n",
              "      <th></th>\n",
              "      <th>TotalSales</th>\n",
              "      <th>OrderCount</th>\n",
              "      <th>AvgOrderValue</th>\n",
              "    </tr>\n",
              "  </thead>\n",
              "  <tbody>\n",
              "    <tr>\n",
              "      <th>count</th>\n",
              "      <td>1133.000000</td>\n",
              "      <td>1133.000000</td>\n",
              "      <td>1133.000000</td>\n",
              "    </tr>\n",
              "    <tr>\n",
              "      <th>mean</th>\n",
              "      <td>5626.538536</td>\n",
              "      <td>8.506620</td>\n",
              "      <td>616.888786</td>\n",
              "    </tr>\n",
              "    <tr>\n",
              "      <th>std</th>\n",
              "      <td>15471.087416</td>\n",
              "      <td>10.515981</td>\n",
              "      <td>766.905069</td>\n",
              "    </tr>\n",
              "    <tr>\n",
              "      <th>min</th>\n",
              "      <td>1019.520000</td>\n",
              "      <td>1.000000</td>\n",
              "      <td>215.450606</td>\n",
              "    </tr>\n",
              "    <tr>\n",
              "      <th>25%</th>\n",
              "      <td>1770.560000</td>\n",
              "      <td>4.000000</td>\n",
              "      <td>354.650000</td>\n",
              "    </tr>\n",
              "    <tr>\n",
              "      <th>50%</th>\n",
              "      <td>2740.430000</td>\n",
              "      <td>6.000000</td>\n",
              "      <td>441.500000</td>\n",
              "    </tr>\n",
              "    <tr>\n",
              "      <th>75%</th>\n",
              "      <td>4487.680000</td>\n",
              "      <td>10.000000</td>\n",
              "      <td>619.653333</td>\n",
              "    </tr>\n",
              "    <tr>\n",
              "      <th>max</th>\n",
              "      <td>268478.000000</td>\n",
              "      <td>192.000000</td>\n",
              "      <td>14844.766667</td>\n",
              "    </tr>\n",
              "  </tbody>\n",
              "</table>\n",
              "</div>"
            ],
            "text/plain": [
              "          TotalSales   OrderCount  AvgOrderValue\n",
              "count    1133.000000  1133.000000    1133.000000\n",
              "mean     5626.538536     8.506620     616.888786\n",
              "std     15471.087416    10.515981     766.905069\n",
              "min      1019.520000     1.000000     215.450606\n",
              "25%      1770.560000     4.000000     354.650000\n",
              "50%      2740.430000     6.000000     441.500000\n",
              "75%      4487.680000    10.000000     619.653333\n",
              "max    268478.000000   192.000000   14844.766667"
            ]
          },
          "metadata": {},
          "execution_count": 43
        }
      ]
    },
    {
      "cell_type": "code",
      "metadata": {
        "colab": {
          "base_uri": "https://localhost:8080/",
          "height": 235
        },
        "id": "gZBEUBJtBAax",
        "outputId": "705af644-5495-4481-a1d1-4e1efd5e1ade"
      },
      "source": [
        "pd.DataFrame(\n",
        "    df.loc[\n",
        "        df['CustomerID'].isin(high_value_cluster.index)\n",
        "    ].groupby('Description').count()[\n",
        "        'StockCode'\n",
        "    ].sort_values(ascending=False).head()\n",
        ")"
      ],
      "execution_count": 44,
      "outputs": [
        {
          "output_type": "execute_result",
          "data": {
            "text/html": [
              "<div>\n",
              "<style scoped>\n",
              "    .dataframe tbody tr th:only-of-type {\n",
              "        vertical-align: middle;\n",
              "    }\n",
              "\n",
              "    .dataframe tbody tr th {\n",
              "        vertical-align: top;\n",
              "    }\n",
              "\n",
              "    .dataframe thead th {\n",
              "        text-align: right;\n",
              "    }\n",
              "</style>\n",
              "<table border=\"1\" class=\"dataframe\">\n",
              "  <thead>\n",
              "    <tr style=\"text-align: right;\">\n",
              "      <th></th>\n",
              "      <th>StockCode</th>\n",
              "    </tr>\n",
              "    <tr>\n",
              "      <th>Description</th>\n",
              "      <th></th>\n",
              "    </tr>\n",
              "  </thead>\n",
              "  <tbody>\n",
              "    <tr>\n",
              "      <th>JUMBO BAG RED RETROSPOT</th>\n",
              "      <td>1143</td>\n",
              "    </tr>\n",
              "    <tr>\n",
              "      <th>REGENCY CAKESTAND 3 TIER</th>\n",
              "      <td>1080</td>\n",
              "    </tr>\n",
              "    <tr>\n",
              "      <th>WHITE HANGING HEART T-LIGHT HOLDER</th>\n",
              "      <td>1072</td>\n",
              "    </tr>\n",
              "    <tr>\n",
              "      <th>LUNCH BAG RED RETROSPOT</th>\n",
              "      <td>938</td>\n",
              "    </tr>\n",
              "    <tr>\n",
              "      <th>PARTY BUNTING</th>\n",
              "      <td>865</td>\n",
              "    </tr>\n",
              "  </tbody>\n",
              "</table>\n",
              "</div>"
            ],
            "text/plain": [
              "                                    StockCode\n",
              "Description                                  \n",
              "JUMBO BAG RED RETROSPOT                  1143\n",
              "REGENCY CAKESTAND 3 TIER                 1080\n",
              "WHITE HANGING HEART T-LIGHT HOLDER       1072\n",
              "LUNCH BAG RED RETROSPOT                   938\n",
              "PARTY BUNTING                             865"
            ]
          },
          "metadata": {},
          "execution_count": 44
        }
      ]
    },
    {
      "cell_type": "code",
      "metadata": {
        "id": "n_kKZ6QuBCWj"
      },
      "source": [
        ""
      ],
      "execution_count": null,
      "outputs": []
    }
  ]
}